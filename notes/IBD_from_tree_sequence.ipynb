{
 "cells": [
  {
   "cell_type": "code",
   "execution_count": 21,
   "id": "a0022486-609a-4c84-9d73-78f9af7adcbb",
   "metadata": {},
   "outputs": [],
   "source": [
    "import msprime\n",
    "from IPython.display import display, SVG"
   ]
  },
  {
   "cell_type": "code",
   "execution_count": 105,
   "id": "42af764b-0bbc-42c5-97da-294e565618f5",
   "metadata": {},
   "outputs": [],
   "source": [
    "demography = msprime.Demography()\n",
    "demography.add_population(name=\"A\", initial_size=10_000)\n",
    "demography.add_population(name=\"B\", initial_size=5_000)\n",
    "demography.add_population(name=\"C\", initial_size=1_000)\n",
    "demography.add_population_split(time=1000, derived=[\"A\", \"B\"], ancestral=\"C\")\n",
    "ts = msprime.sim_ancestry(samples={\"A\": 1, \"B\": 2}, demography=demography, random_seed=12, sequence_length=10000000, recombination_rate=1e-8)"
   ]
  },
  {
   "cell_type": "code",
   "execution_count": 118,
   "id": "3735665a-33ae-446c-9c85-78554c77a032",
   "metadata": {},
   "outputs": [
    {
     "data": {
      "image/svg+xml": "<svg xmlns=\"http://www.w3.org/2000/svg\" xmlns:ev=\"http://www.w3.org/2001/xml-events\" xmlns:xlink=\"http://www.w3.org/1999/xlink\" baseProfile=\"full\" height=\"250\" version=\"1.1\" width=\"1200\"><defs><style type=\"text/css\"><![CDATA[.background path {fill: #808080; fill-opacity: 0}.background path:nth-child(odd) {fill-opacity: .1}.axes {font-size: 14px}.x-axis .tick .lab {font-weight: bold; dominant-baseline: hanging}.axes, .tree {font-size: 14px; text-anchor: middle}.axes line, .edge {stroke: black; fill: none}.y-axis .grid {stroke: #FAFAFA}.node > .sym {fill: black; stroke: none}.site > .sym {stroke: black}.mut text {fill: red; font-style: italic}.mut.extra text {fill: hotpink}.mut line {fill: none; stroke: none}.mut .sym {fill: none; stroke: red}.mut.extra .sym {stroke: hotpink}.node .mut .sym {stroke-width: 1.5px}.tree text, .tree-sequence text {dominant-baseline: central}.plotbox .lab.lft {text-anchor: end}.plotbox .lab.rgt {text-anchor: start}.t0 .n0 > .edge {stroke: blue; stroke-width: 4px} .t0 .n4 > .edge {stroke: red; stroke-width: 4px} .t0 .node.n392 > .sym {transform: scale(2.2); fill: yellow; stroke: black; stroke-width: 0.5px} .t1 .n0 > .edge {stroke: blue; stroke-width: 4px} .t1 .n4 > .edge {stroke: red; stroke-width: 4px} .t1 .n277 > .edge {stroke: red; stroke-width: 4px} .t1 .node.n392 > .sym {transform: scale(2.2); fill: yellow; stroke: black; stroke-width: 0.5px}]]></style></defs><g class=\"tree-sequence\"><g class=\"background\"><path d=\"M56.8,0 l224.64,0 l0,188.2 l117.846,25 l0,5 l-342.486,0 l0,-5 l0,-25 l0,-188.2z\"/><path d=\"M281.44,0 l224.64,0 l0,188.2 l20.2625,25 l0,5 l-127.056,0 l0,-5 l-117.846,-25 l0,-188.2z\"/><path d=\"M506.08,0 l224.64,0 l0,188.2 l111.916,25 l0,5 l-316.293,0 l0,-5 l-20.2625,-25 l0,-188.2z\"/><path d=\"M730.72,0 l224.64,0 l0,188.2 l101.268,25 l0,5 l-213.992,0 l0,-5 l-111.916,-25 l0,-188.2z\"/><path d=\"M955.36,0 l224.64,0 l0,188.2 l0,25 l0,5 l-123.372,0 l0,-5 l-101.268,-25 l0,-188.2z\"/></g><g class=\"axes\"><g class=\"x-axis\"><g transform=\"translate(618.4 250)\"><text class=\"lab\" text-anchor=\"middle\" transform=\"translate(0 -11)\">Genome position</text></g><line x1=\"56.8\" x2=\"1180\" y1=\"213.2\" y2=\"213.2\"/><g class=\"ticks\"><g class=\"tick\" transform=\"translate(56.8 213.2)\"><line x1=\"0\" x2=\"0\" y1=\"0\" y2=\"5\"/><g transform=\"translate(0 6)\"><text class=\"lab\">0</text></g></g><g class=\"tick\" transform=\"translate(399.286 213.2)\"><line x1=\"0\" x2=\"0\" y1=\"0\" y2=\"5\"/><g transform=\"translate(0 6)\"><text class=\"lab\">15246</text></g></g><g class=\"tick\" transform=\"translate(526.343 213.2)\"><line x1=\"0\" x2=\"0\" y1=\"0\" y2=\"5\"/><g transform=\"translate(0 6)\"><text class=\"lab\">20902</text></g></g><g class=\"tick\" transform=\"translate(842.636 213.2)\"><line x1=\"0\" x2=\"0\" y1=\"0\" y2=\"5\"/><g transform=\"translate(0 6)\"><text class=\"lab\">34982</text></g></g><g class=\"tick\" transform=\"translate(1056.63 213.2)\"><line x1=\"0\" x2=\"0\" y1=\"0\" y2=\"5\"/><g transform=\"translate(0 6)\"><text class=\"lab\">44508</text></g></g></g></g><g class=\"y-axis\"><g transform=\"translate(0 90.7)\"><text class=\"lab\" text-anchor=\"middle\" transform=\"translate(11) rotate(-90)\">Time(rank)</text></g><line x1=\"56.8\" x2=\"56.8\" y1=\"171.4\" y2=\"10\"/><g class=\"ticks\"><g class=\"tick\" transform=\"translate(56.8 171.4)\"><line x1=\"0\" x2=\"-5\" y1=\"0\" y2=\"0\"/><g transform=\"translate(-6 0)\"><text class=\"lab\" text-anchor=\"end\">0</text></g></g><g class=\"tick\" transform=\"translate(56.8 139.267)\"><line x1=\"0\" x2=\"-5\" y1=\"0\" y2=\"0\"/><g transform=\"translate(-6 0)\"><text class=\"lab\" text-anchor=\"end\">2</text></g></g><g class=\"tick\" transform=\"translate(56.8 107.133)\"><line x1=\"0\" x2=\"-5\" y1=\"0\" y2=\"0\"/><g transform=\"translate(-6 0)\"><text class=\"lab\" text-anchor=\"end\">4</text></g></g><g class=\"tick\" transform=\"translate(56.8 75)\"><line x1=\"0\" x2=\"-5\" y1=\"0\" y2=\"0\"/><g transform=\"translate(-6 0)\"><text class=\"lab\" text-anchor=\"end\">6</text></g></g><g class=\"tick\" transform=\"translate(56.8 42.8667)\"><line x1=\"0\" x2=\"-5\" y1=\"0\" y2=\"0\"/><g transform=\"translate(-6 0)\"><text class=\"lab\" text-anchor=\"end\">8</text></g></g><g class=\"tick\" transform=\"translate(56.8 10.7333)\"><line x1=\"0\" x2=\"-5\" y1=\"0\" y2=\"0\"/><g transform=\"translate(-6 0)\"><text class=\"lab\" text-anchor=\"end\">10</text></g></g></g></g></g><g class=\"plotbox trees\"><g class=\"tree t-1\" transform=\"translate(56.8 0)\"><g class=\"plotbox\"><g class=\"c2 node n469 p2 root\" transform=\"translate(145.017 26.8)\"><g class=\"a469 i2 leaf node n4 p1 sample\" transform=\"translate(44.2367 144.6)\"><path class=\"edge\" d=\"M 0 0 V -144.6 H -44.2367\"/><rect class=\"sym\" height=\"6\" width=\"6\" x=\"-3\" y=\"-3\"/><text class=\"lab\" transform=\"translate(0 11)\">4</text></g><g class=\"a469 c2 node n395 p2\" transform=\"translate(-44.2367 32.1333)\"><g class=\"a395 c2 node n217 p2\" transform=\"translate(42.3133 80.3333)\"><g class=\"a217 i0 leaf node n1 p0 sample\" transform=\"translate(-15.3867 32.1333)\"><path class=\"edge\" d=\"M 0 0 V -32.1333 H 15.3867\"/><rect class=\"sym\" height=\"6\" width=\"6\" x=\"-3\" y=\"-3\"/><text class=\"lab\" transform=\"translate(0 11)\">1</text></g><g class=\"a217 i1 leaf node n3 p1 sample\" transform=\"translate(15.3867 32.1333)\"><path class=\"edge\" d=\"M 0 0 V -32.1333 H -15.3867\"/><rect class=\"sym\" height=\"6\" width=\"6\" x=\"-3\" y=\"-3\"/><text class=\"lab\" transform=\"translate(0 11)\">3</text></g><path class=\"edge\" d=\"M 0 0 V -80.3333 H -42.3133\"/><circle class=\"sym\" cx=\"0\" cy=\"0\" r=\"3\"/><text class=\"lab rgt\" transform=\"translate(3 -7.0)\">217</text></g><g class=\"a395 c2 node n267 p2\" transform=\"translate(-42.3133 48.2)\"><g class=\"a267 i0 leaf node n0 p0 sample\" transform=\"translate(-23.08 64.2667)\"><path class=\"edge\" d=\"M 0 0 V -64.2667 H 23.08\"/><rect class=\"sym\" height=\"6\" width=\"6\" x=\"-3\" y=\"-3\"/><text class=\"lab\" transform=\"translate(0 11)\">0</text></g><g class=\"a267 c2 node n37 p1\" transform=\"translate(23.08 48.2)\"><g class=\"a37 i1 leaf node n2 p1 sample\" transform=\"translate(-15.3867 16.0667)\"><path class=\"edge\" d=\"M 0 0 V -16.0667 H 15.3867\"/><rect class=\"sym\" height=\"6\" width=\"6\" x=\"-3\" y=\"-3\"/><text class=\"lab\" transform=\"translate(0 11)\">2</text></g><g class=\"a37 i2 leaf node n5 p1 sample\" transform=\"translate(15.3867 16.0667)\"><path class=\"edge\" d=\"M 0 0 V -16.0667 H -15.3867\"/><rect class=\"sym\" height=\"6\" width=\"6\" x=\"-3\" y=\"-3\"/><text class=\"lab\" transform=\"translate(0 11)\">5</text></g><path class=\"edge\" d=\"M 0 0 V -48.2 H -23.08\"/><circle class=\"sym\" cx=\"0\" cy=\"0\" r=\"3\"/><text class=\"lab rgt\" transform=\"translate(3 -7.0)\">37</text></g><path class=\"edge\" d=\"M 0 0 V -48.2 H 42.3133\"/><circle class=\"sym\" cx=\"0\" cy=\"0\" r=\"3\"/><text class=\"lab lft\" transform=\"translate(-3 -7.0)\">267</text></g><path class=\"edge\" d=\"M 0 0 V -32.1333 H 44.2367\"/><circle class=\"sym\" cx=\"0\" cy=\"0\" r=\"3\"/><text class=\"lab lft\" transform=\"translate(-3 -7.0)\">395</text></g><circle class=\"sym\" cx=\"0\" cy=\"0\" r=\"3\"/><text class=\"lab\" transform=\"translate(0 -11)\">469</text></g></g></g><g class=\"tree t0\" transform=\"translate(281.44 0)\"><g class=\"plotbox\"><g class=\"c2 node n469 p2 root\" transform=\"translate(96.9333 26.8)\"><g class=\"a469 c2 node n395 p2\" transform=\"translate(46.16 32.1333)\"><g class=\"a395 c2 node n217 p2\" transform=\"translate(-30.7733 80.3333)\"><g class=\"a217 i0 leaf node n1 p0 sample\" transform=\"translate(-15.3867 32.1333)\"><path class=\"edge\" d=\"M 0 0 V -32.1333 H 15.3867\"/><rect class=\"sym\" height=\"6\" width=\"6\" x=\"-3\" y=\"-3\"/><text class=\"lab\" transform=\"translate(0 11)\">1</text></g><g class=\"a217 i1 leaf node n3 p1 sample\" transform=\"translate(15.3867 32.1333)\"><path class=\"edge\" d=\"M 0 0 V -32.1333 H -15.3867\"/><rect class=\"sym\" height=\"6\" width=\"6\" x=\"-3\" y=\"-3\"/><text class=\"lab\" transform=\"translate(0 11)\">3</text></g><path class=\"edge\" d=\"M 0 0 V -80.3333 H 30.7733\"/><circle class=\"sym\" cx=\"0\" cy=\"0\" r=\"3\"/><text class=\"lab lft\" transform=\"translate(-3 -7.0)\">217</text></g><g class=\"a395 c2 node n37 p1\" transform=\"translate(30.7733 96.4)\"><g class=\"a37 i1 leaf node n2 p1 sample\" transform=\"translate(-15.3867 16.0667)\"><path class=\"edge\" d=\"M 0 0 V -16.0667 H 15.3867\"/><rect class=\"sym\" height=\"6\" width=\"6\" x=\"-3\" y=\"-3\"/><text class=\"lab\" transform=\"translate(0 11)\">2</text></g><g class=\"a37 i2 leaf node n5 p1 sample\" transform=\"translate(15.3867 16.0667)\"><path class=\"edge\" d=\"M 0 0 V -16.0667 H -15.3867\"/><rect class=\"sym\" height=\"6\" width=\"6\" x=\"-3\" y=\"-3\"/><text class=\"lab\" transform=\"translate(0 11)\">5</text></g><path class=\"edge\" d=\"M 0 0 V -96.4 H -30.7733\"/><circle class=\"sym\" cx=\"0\" cy=\"0\" r=\"3\"/><text class=\"lab rgt\" transform=\"translate(3 -7.0)\">37</text></g><path class=\"edge\" d=\"M 0 0 V -32.1333 H -46.16\"/><circle class=\"sym\" cx=\"0\" cy=\"0\" r=\"3\"/><text class=\"lab rgt\" transform=\"translate(3 -7.0)\">395</text></g><g class=\"a469 c2 node n392 p2\" transform=\"translate(-46.16 48.2)\"><g class=\"a392 i0 leaf node n0 p0 sample\" transform=\"translate(-15.3867 96.4)\"><path class=\"edge\" d=\"M 0 0 V -96.4 H 15.3867\"/><rect class=\"sym\" height=\"6\" width=\"6\" x=\"-3\" y=\"-3\"/><text class=\"lab\" transform=\"translate(0 11)\">0</text></g><g class=\"a392 i2 leaf node n4 p1 sample\" transform=\"translate(15.3867 96.4)\"><path class=\"edge\" d=\"M 0 0 V -96.4 H -15.3867\"/><rect class=\"sym\" height=\"6\" width=\"6\" x=\"-3\" y=\"-3\"/><text class=\"lab\" transform=\"translate(0 11)\">4</text></g><path class=\"edge\" d=\"M 0 0 V -48.2 H 46.16\"/><circle class=\"sym\" cx=\"0\" cy=\"0\" r=\"3\"/><text class=\"lab lft\" transform=\"translate(-3 -7.0)\">392</text></g><circle class=\"sym\" cx=\"0\" cy=\"0\" r=\"3\"/><text class=\"lab\" transform=\"translate(0 -11)\">469</text></g></g></g><g class=\"tree t1\" transform=\"translate(506.08 0)\"><g class=\"plotbox\"><g class=\"c2 node n469 p2 root\" transform=\"translate(121.937 26.8)\"><g class=\"a469 c2 node n392 p2\" transform=\"translate(-51.93 48.2)\"><g class=\"a392 i0 leaf node n0 p0 sample\" transform=\"translate(-34.62 96.4)\"><path class=\"edge\" d=\"M 0 0 V -96.4 H 34.62\"/><rect class=\"sym\" height=\"6\" width=\"6\" x=\"-3\" y=\"-3\"/><text class=\"lab\" transform=\"translate(0 11)\">0</text></g><g class=\"a392 c2 node n277 p2\" transform=\"translate(34.62 16.0667)\"><g class=\"a277 i2 leaf node n4 p1 sample\" transform=\"translate(23.08 80.3333)\"><path class=\"edge\" d=\"M 0 0 V -80.3333 H -23.08\"/><rect class=\"sym\" height=\"6\" width=\"6\" x=\"-3\" y=\"-3\"/><text class=\"lab\" transform=\"translate(0 11)\">4</text></g><g class=\"a277 c2 node n37 p1\" transform=\"translate(-23.08 64.2667)\"><g class=\"a37 i1 leaf node n2 p1 sample\" transform=\"translate(-15.3867 16.0667)\"><path class=\"edge\" d=\"M 0 0 V -16.0667 H 15.3867\"/><rect class=\"sym\" height=\"6\" width=\"6\" x=\"-3\" y=\"-3\"/><text class=\"lab\" transform=\"translate(0 11)\">2</text></g><g class=\"a37 i2 leaf node n5 p1 sample\" transform=\"translate(15.3867 16.0667)\"><path class=\"edge\" d=\"M 0 0 V -16.0667 H -15.3867\"/><rect class=\"sym\" height=\"6\" width=\"6\" x=\"-3\" y=\"-3\"/><text class=\"lab\" transform=\"translate(0 11)\">5</text></g><path class=\"edge\" d=\"M 0 0 V -64.2667 H 23.08\"/><circle class=\"sym\" cx=\"0\" cy=\"0\" r=\"3\"/><text class=\"lab lft\" transform=\"translate(-3 -7.0)\">37</text></g><path class=\"edge\" d=\"M 0 0 V -16.0667 H -34.62\"/><circle class=\"sym\" cx=\"0\" cy=\"0\" r=\"3\"/><text class=\"lab rgt\" transform=\"translate(3 -7.0)\">277</text></g><path class=\"edge\" d=\"M 0 0 V -48.2 H 51.93\"/><circle class=\"sym\" cx=\"0\" cy=\"0\" r=\"3\"/><text class=\"lab lft\" transform=\"translate(-3 -7.0)\">392</text></g><g class=\"a469 c2 node n217 p2\" transform=\"translate(51.93 112.467)\"><g class=\"a217 i0 leaf node n1 p0 sample\" transform=\"translate(-15.3867 32.1333)\"><path class=\"edge\" d=\"M 0 0 V -32.1333 H 15.3867\"/><rect class=\"sym\" height=\"6\" width=\"6\" x=\"-3\" y=\"-3\"/><text class=\"lab\" transform=\"translate(0 11)\">1</text></g><g class=\"a217 i1 leaf node n3 p1 sample\" transform=\"translate(15.3867 32.1333)\"><path class=\"edge\" d=\"M 0 0 V -32.1333 H -15.3867\"/><rect class=\"sym\" height=\"6\" width=\"6\" x=\"-3\" y=\"-3\"/><text class=\"lab\" transform=\"translate(0 11)\">3</text></g><path class=\"edge\" d=\"M 0 0 V -112.467 H -51.93\"/><circle class=\"sym\" cx=\"0\" cy=\"0\" r=\"3\"/><text class=\"lab rgt\" transform=\"translate(3 -7.0)\">217</text></g><circle class=\"sym\" cx=\"0\" cy=\"0\" r=\"3\"/><text class=\"lab\" transform=\"translate(0 -11)\">469</text></g></g></g><g class=\"tree t2\" transform=\"translate(730.72 0)\"><g class=\"plotbox\"><g class=\"c2 node n469 p2 root\" transform=\"translate(112.32 26.8)\"><g class=\"a469 c2 node n277 p2\" transform=\"translate(53.8533 64.2667)\"><g class=\"a277 i2 leaf node n4 p1 sample\" transform=\"translate(23.08 80.3333)\"><path class=\"edge\" d=\"M 0 0 V -80.3333 H -23.08\"/><rect class=\"sym\" height=\"6\" width=\"6\" x=\"-3\" y=\"-3\"/><text class=\"lab\" transform=\"translate(0 11)\">4</text></g><g class=\"a277 c2 node n37 p1\" transform=\"translate(-23.08 64.2667)\"><g class=\"a37 i1 leaf node n2 p1 sample\" transform=\"translate(-15.3867 16.0667)\"><path class=\"edge\" d=\"M 0 0 V -16.0667 H 15.3867\"/><rect class=\"sym\" height=\"6\" width=\"6\" x=\"-3\" y=\"-3\"/><text class=\"lab\" transform=\"translate(0 11)\">2</text></g><g class=\"a37 i2 leaf node n5 p1 sample\" transform=\"translate(15.3867 16.0667)\"><path class=\"edge\" d=\"M 0 0 V -16.0667 H -15.3867\"/><rect class=\"sym\" height=\"6\" width=\"6\" x=\"-3\" y=\"-3\"/><text class=\"lab\" transform=\"translate(0 11)\">5</text></g><path class=\"edge\" d=\"M 0 0 V -64.2667 H 23.08\"/><circle class=\"sym\" cx=\"0\" cy=\"0\" r=\"3\"/><text class=\"lab lft\" transform=\"translate(-3 -7.0)\">37</text></g><path class=\"edge\" d=\"M 0 0 V -64.2667 H -53.8533\"/><circle class=\"sym\" cx=\"0\" cy=\"0\" r=\"3\"/><text class=\"lab rgt\" transform=\"translate(3 -7.0)\">277</text></g><g class=\"a469 c2 node n421 p2\" transform=\"translate(-53.8533 16.0667)\"><g class=\"a421 i0 leaf node n0 p0 sample\" transform=\"translate(-23.08 128.533)\"><path class=\"edge\" d=\"M 0 0 V -128.533 H 23.08\"/><rect class=\"sym\" height=\"6\" width=\"6\" x=\"-3\" y=\"-3\"/><text class=\"lab\" transform=\"translate(0 11)\">0</text></g><g class=\"a421 c2 node n217 p2\" transform=\"translate(23.08 96.4)\"><g class=\"a217 i0 leaf node n1 p0 sample\" transform=\"translate(-15.3867 32.1333)\"><path class=\"edge\" d=\"M 0 0 V -32.1333 H 15.3867\"/><rect class=\"sym\" height=\"6\" width=\"6\" x=\"-3\" y=\"-3\"/><text class=\"lab\" transform=\"translate(0 11)\">1</text></g><g class=\"a217 i1 leaf node n3 p1 sample\" transform=\"translate(15.3867 32.1333)\"><path class=\"edge\" d=\"M 0 0 V -32.1333 H -15.3867\"/><rect class=\"sym\" height=\"6\" width=\"6\" x=\"-3\" y=\"-3\"/><text class=\"lab\" transform=\"translate(0 11)\">3</text></g><path class=\"edge\" d=\"M 0 0 V -96.4 H -23.08\"/><circle class=\"sym\" cx=\"0\" cy=\"0\" r=\"3\"/><text class=\"lab rgt\" transform=\"translate(3 -7.0)\">217</text></g><path class=\"edge\" d=\"M 0 0 V -16.0667 H 53.8533\"/><circle class=\"sym\" cx=\"0\" cy=\"0\" r=\"3\"/><text class=\"lab lft\" transform=\"translate(-3 -7.0)\">421</text></g><circle class=\"sym\" cx=\"0\" cy=\"0\" r=\"3\"/><text class=\"lab\" transform=\"translate(0 -11)\">469</text></g></g></g><g class=\"tree t3\" transform=\"translate(955.36 0)\"><g class=\"plotbox\"><g class=\"c2 node n469 p2 root\" transform=\"translate(112.32 26.8)\"><g class=\"a469 c2 node n277 p2\" transform=\"translate(53.8533 64.2667)\"><g class=\"a277 i2 leaf node n4 p1 sample\" transform=\"translate(23.08 80.3333)\"><path class=\"edge\" d=\"M 0 0 V -80.3333 H -23.08\"/><rect class=\"sym\" height=\"6\" width=\"6\" x=\"-3\" y=\"-3\"/><text class=\"lab\" transform=\"translate(0 11)\">4</text></g><g class=\"a277 c2 node n224 p2\" transform=\"translate(-23.08 32.1333)\"><g class=\"a224 i1 leaf node n2 p1 sample\" transform=\"translate(-15.3867 48.2)\"><path class=\"edge\" d=\"M 0 0 V -48.2 H 15.3867\"/><rect class=\"sym\" height=\"6\" width=\"6\" x=\"-3\" y=\"-3\"/><text class=\"lab\" transform=\"translate(0 11)\">2</text></g><g class=\"a224 i2 leaf node n5 p1 sample\" transform=\"translate(15.3867 48.2)\"><path class=\"edge\" d=\"M 0 0 V -48.2 H -15.3867\"/><rect class=\"sym\" height=\"6\" width=\"6\" x=\"-3\" y=\"-3\"/><text class=\"lab\" transform=\"translate(0 11)\">5</text></g><path class=\"edge\" d=\"M 0 0 V -32.1333 H 23.08\"/><circle class=\"sym\" cx=\"0\" cy=\"0\" r=\"3\"/><text class=\"lab lft\" transform=\"translate(-3 -7.0)\">224</text></g><path class=\"edge\" d=\"M 0 0 V -64.2667 H -53.8533\"/><circle class=\"sym\" cx=\"0\" cy=\"0\" r=\"3\"/><text class=\"lab rgt\" transform=\"translate(3 -7.0)\">277</text></g><g class=\"a469 c2 node n421 p2\" transform=\"translate(-53.8533 16.0667)\"><g class=\"a421 i0 leaf node n0 p0 sample\" transform=\"translate(-23.08 128.533)\"><path class=\"edge\" d=\"M 0 0 V -128.533 H 23.08\"/><rect class=\"sym\" height=\"6\" width=\"6\" x=\"-3\" y=\"-3\"/><text class=\"lab\" transform=\"translate(0 11)\">0</text></g><g class=\"a421 c2 node n217 p2\" transform=\"translate(23.08 96.4)\"><g class=\"a217 i0 leaf node n1 p0 sample\" transform=\"translate(-15.3867 32.1333)\"><path class=\"edge\" d=\"M 0 0 V -32.1333 H 15.3867\"/><rect class=\"sym\" height=\"6\" width=\"6\" x=\"-3\" y=\"-3\"/><text class=\"lab\" transform=\"translate(0 11)\">1</text></g><g class=\"a217 i1 leaf node n3 p1 sample\" transform=\"translate(15.3867 32.1333)\"><path class=\"edge\" d=\"M 0 0 V -32.1333 H -15.3867\"/><rect class=\"sym\" height=\"6\" width=\"6\" x=\"-3\" y=\"-3\"/><text class=\"lab\" transform=\"translate(0 11)\">3</text></g><path class=\"edge\" d=\"M 0 0 V -96.4 H -23.08\"/><circle class=\"sym\" cx=\"0\" cy=\"0\" r=\"3\"/><text class=\"lab rgt\" transform=\"translate(3 -7.0)\">217</text></g><path class=\"edge\" d=\"M 0 0 V -16.0667 H 53.8533\"/><circle class=\"sym\" cx=\"0\" cy=\"0\" r=\"3\"/><text class=\"lab lft\" transform=\"translate(-3 -7.0)\">421</text></g><circle class=\"sym\" cx=\"0\" cy=\"0\" r=\"3\"/><text class=\"lab\" transform=\"translate(0 -11)\">469</text></g></g></g></g></g></svg>",
      "text/plain": [
       "<IPython.core.display.SVG object>"
      ]
     },
     "execution_count": 118,
     "metadata": {},
     "output_type": "execute_result"
    }
   ],
   "source": [
    "style_str = \" \".join([\n",
    "    \".t0 .n0 > .edge {stroke: blue; stroke-width: 4px}\",\n",
    "    \".t0 .n4 > .edge {stroke: red; stroke-width: 4px}\",\n",
    "    \".t0 .node.n392 > .sym {transform: scale(2.2); fill: yellow; stroke: black; stroke-width: 0.5px}\",\n",
    "    \".t1 .n0 > .edge {stroke: blue; stroke-width: 4px}\",\n",
    "    \".t1 .n4 > .edge {stroke: red; stroke-width: 4px}\",\n",
    "    \".t1 .n277 > .edge {stroke: red; stroke-width: 4px}\",\n",
    "    \".t1 .node.n392 > .sym {transform: scale(2.2); fill: yellow; stroke: black; stroke-width: 0.5px}\"\n",
    "])\n",
    "\n",
    "    \n",
    "SVG(ts.draw_svg(size=(1200, 250), y_axis=True,  y_ticks= [0,2,4, 6, 8,10], y_label='Time(rank)', time_scale='rank', x_lim=[0, 50000], \n",
    "                style=style_str))"
   ]
  },
  {
   "cell_type": "code",
   "execution_count": 121,
   "id": "7a32e78c-3244-4de3-8399-2904e9781846",
   "metadata": {},
   "outputs": [
    {
     "data": {
      "text/plain": [
       "17399"
      ]
     },
     "execution_count": 121,
     "metadata": {},
     "output_type": "execute_result"
    }
   ],
   "source": [
    "from pathlib import Path\n",
    "Path(\"~/Desktop/1.svg\").expanduser().write_text(\n",
    "    ts.draw_svg(size=(1200, 250), y_axis=True,  y_ticks= [0,2,4, 6, 8,10], y_label='Time(rank)', time_scale='rank', x_lim=[0, 50000], \n",
    "                style=style_str)\n",
    ")"
   ]
  },
  {
   "cell_type": "code",
   "execution_count": null,
   "id": "7bd6f010-4497-4097-858a-ca8f06e43848",
   "metadata": {},
   "outputs": [],
   "source": []
  }
 ],
 "metadata": {
  "kernelspec": {
   "display_name": "Python 3 (ipykernel)",
   "language": "python",
   "name": "python3"
  },
  "language_info": {
   "codemirror_mode": {
    "name": "ipython",
    "version": 3
   },
   "file_extension": ".py",
   "mimetype": "text/x-python",
   "name": "python",
   "nbconvert_exporter": "python",
   "pygments_lexer": "ipython3",
   "version": "3.9.7"
  }
 },
 "nbformat": 4,
 "nbformat_minor": 5
}
